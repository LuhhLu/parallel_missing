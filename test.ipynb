{
 "cells": [
  {
   "cell_type": "code",
   "execution_count": 1,
   "metadata": {
    "collapsed": true,
    "ExecuteTime": {
     "end_time": "2024-11-24T19:20:57.521781Z",
     "start_time": "2024-11-24T19:20:57.505962Z"
    }
   },
   "outputs": [
    {
     "name": "stdout",
     "output_type": "stream",
     "text": [
      "3.0.11\n"
     ]
    }
   ],
   "source": [
    "import Cython\n",
    "print(Cython.__version__)"
   ]
  },
  {
   "cell_type": "code",
   "execution_count": 2,
   "outputs": [
    {
     "name": "stdout",
     "output_type": "stream",
     "text": [
      "Hello, Cython!\n"
     ]
    }
   ],
   "source": [
    "import test\n",
    "test.say_hello()"
   ],
   "metadata": {
    "collapsed": false,
    "ExecuteTime": {
     "end_time": "2024-11-24T19:37:28.634332Z",
     "start_time": "2024-11-24T19:37:28.219736Z"
    }
   }
  },
  {
   "cell_type": "code",
   "execution_count": 1,
   "outputs": [],
   "source": [
    "import pandas as pd\n",
    "import numpy as np\n",
    "from parallel_imputation import generate_large_dataset, determine_target_dtypes, RandomForestImputation"
   ],
   "metadata": {
    "collapsed": false,
    "ExecuteTime": {
     "end_time": "2024-11-26T22:03:55.958908Z",
     "start_time": "2024-11-26T22:03:55.469430Z"
    }
   }
  },
  {
   "cell_type": "code",
   "execution_count": 2,
   "outputs": [
    {
     "data": {
      "text/plain": "   Feature_0  Feature_1  Feature_2  Feature_3  Feature_4  Feature_5  \\\n0  13.775070        NaN  68.601260        NaN        NaN        NaN   \n1  74.857721        3.0  56.407416        2.0   0.814950        3.0   \n2   2.979823        NaN        NaN        9.0        NaN        9.0   \n3  54.413631        7.0  29.257670        6.0  16.896536        0.0   \n4  82.171256        9.0  32.318357        7.0  79.153708        6.0   \n\n   Feature_6  Feature_7  Feature_8  Feature_9  ...  Feature_11  Feature_12  \\\n0  51.721562        NaN        NaN        5.0  ...         7.0   80.727274   \n1  59.402664        9.0  79.263963        NaN  ...         4.0   87.928880   \n2  73.470632        3.0        NaN        8.0  ...         4.0   32.061432   \n3  74.915334        7.0  45.413054        NaN  ...         8.0   23.725235   \n4  59.340750        9.0  55.256989        7.0  ...         NaN         NaN   \n\n   Feature_13  Feature_14  Feature_15  Feature_16  Feature_17  Feature_18  \\\n0         6.0   61.083526         2.0   48.658860         4.0         NaN   \n1         0.0   50.251230         NaN   64.798904         NaN         NaN   \n2         3.0   91.189311         5.0   96.020092         6.0         NaN   \n3         NaN   85.399465         4.0   81.442744         NaN    1.760897   \n4         5.0   73.310242         2.0   35.859196         8.0   79.333821   \n\n   Feature_19     Target  \n0         1.0  31.444158  \n1         1.0  12.822415  \n2         NaN  23.680263  \n3         9.0  33.905231  \n4         0.0   9.476997  \n\n[5 rows x 21 columns]",
      "text/html": "<div>\n<style scoped>\n    .dataframe tbody tr th:only-of-type {\n        vertical-align: middle;\n    }\n\n    .dataframe tbody tr th {\n        vertical-align: top;\n    }\n\n    .dataframe thead th {\n        text-align: right;\n    }\n</style>\n<table border=\"1\" class=\"dataframe\">\n  <thead>\n    <tr style=\"text-align: right;\">\n      <th></th>\n      <th>Feature_0</th>\n      <th>Feature_1</th>\n      <th>Feature_2</th>\n      <th>Feature_3</th>\n      <th>Feature_4</th>\n      <th>Feature_5</th>\n      <th>Feature_6</th>\n      <th>Feature_7</th>\n      <th>Feature_8</th>\n      <th>Feature_9</th>\n      <th>...</th>\n      <th>Feature_11</th>\n      <th>Feature_12</th>\n      <th>Feature_13</th>\n      <th>Feature_14</th>\n      <th>Feature_15</th>\n      <th>Feature_16</th>\n      <th>Feature_17</th>\n      <th>Feature_18</th>\n      <th>Feature_19</th>\n      <th>Target</th>\n    </tr>\n  </thead>\n  <tbody>\n    <tr>\n      <th>0</th>\n      <td>13.775070</td>\n      <td>NaN</td>\n      <td>68.601260</td>\n      <td>NaN</td>\n      <td>NaN</td>\n      <td>NaN</td>\n      <td>51.721562</td>\n      <td>NaN</td>\n      <td>NaN</td>\n      <td>5.0</td>\n      <td>...</td>\n      <td>7.0</td>\n      <td>80.727274</td>\n      <td>6.0</td>\n      <td>61.083526</td>\n      <td>2.0</td>\n      <td>48.658860</td>\n      <td>4.0</td>\n      <td>NaN</td>\n      <td>1.0</td>\n      <td>31.444158</td>\n    </tr>\n    <tr>\n      <th>1</th>\n      <td>74.857721</td>\n      <td>3.0</td>\n      <td>56.407416</td>\n      <td>2.0</td>\n      <td>0.814950</td>\n      <td>3.0</td>\n      <td>59.402664</td>\n      <td>9.0</td>\n      <td>79.263963</td>\n      <td>NaN</td>\n      <td>...</td>\n      <td>4.0</td>\n      <td>87.928880</td>\n      <td>0.0</td>\n      <td>50.251230</td>\n      <td>NaN</td>\n      <td>64.798904</td>\n      <td>NaN</td>\n      <td>NaN</td>\n      <td>1.0</td>\n      <td>12.822415</td>\n    </tr>\n    <tr>\n      <th>2</th>\n      <td>2.979823</td>\n      <td>NaN</td>\n      <td>NaN</td>\n      <td>9.0</td>\n      <td>NaN</td>\n      <td>9.0</td>\n      <td>73.470632</td>\n      <td>3.0</td>\n      <td>NaN</td>\n      <td>8.0</td>\n      <td>...</td>\n      <td>4.0</td>\n      <td>32.061432</td>\n      <td>3.0</td>\n      <td>91.189311</td>\n      <td>5.0</td>\n      <td>96.020092</td>\n      <td>6.0</td>\n      <td>NaN</td>\n      <td>NaN</td>\n      <td>23.680263</td>\n    </tr>\n    <tr>\n      <th>3</th>\n      <td>54.413631</td>\n      <td>7.0</td>\n      <td>29.257670</td>\n      <td>6.0</td>\n      <td>16.896536</td>\n      <td>0.0</td>\n      <td>74.915334</td>\n      <td>7.0</td>\n      <td>45.413054</td>\n      <td>NaN</td>\n      <td>...</td>\n      <td>8.0</td>\n      <td>23.725235</td>\n      <td>NaN</td>\n      <td>85.399465</td>\n      <td>4.0</td>\n      <td>81.442744</td>\n      <td>NaN</td>\n      <td>1.760897</td>\n      <td>9.0</td>\n      <td>33.905231</td>\n    </tr>\n    <tr>\n      <th>4</th>\n      <td>82.171256</td>\n      <td>9.0</td>\n      <td>32.318357</td>\n      <td>7.0</td>\n      <td>79.153708</td>\n      <td>6.0</td>\n      <td>59.340750</td>\n      <td>9.0</td>\n      <td>55.256989</td>\n      <td>7.0</td>\n      <td>...</td>\n      <td>NaN</td>\n      <td>NaN</td>\n      <td>5.0</td>\n      <td>73.310242</td>\n      <td>2.0</td>\n      <td>35.859196</td>\n      <td>8.0</td>\n      <td>79.333821</td>\n      <td>0.0</td>\n      <td>9.476997</td>\n    </tr>\n  </tbody>\n</table>\n<p>5 rows × 21 columns</p>\n</div>"
     },
     "execution_count": 2,
     "metadata": {},
     "output_type": "execute_result"
    }
   ],
   "source": [
    "df_large = generate_large_dataset(num_rows = 10000, num_features= 20)\n",
    "df_large.head()"
   ],
   "metadata": {
    "collapsed": false,
    "ExecuteTime": {
     "end_time": "2024-11-26T22:03:56.000051Z",
     "start_time": "2024-11-26T22:03:55.958663Z"
    }
   }
  },
  {
   "cell_type": "code",
   "execution_count": 3,
   "outputs": [
    {
     "data": {
      "text/plain": "['float64',\n 'int32',\n 'float64',\n 'int32',\n 'float64',\n 'int32',\n 'float64',\n 'int32',\n 'float64',\n 'int32',\n 'float64',\n 'int32',\n 'float64',\n 'int32',\n 'float64',\n 'int32',\n 'float64',\n 'int32',\n 'float64',\n 'int32',\n 'float64']"
     },
     "execution_count": 3,
     "metadata": {},
     "output_type": "execute_result"
    }
   ],
   "source": [
    "target_features = df_large.columns\n",
    "target_dtypes = determine_target_dtypes(df_large)\n",
    "target_dtypes"
   ],
   "metadata": {
    "collapsed": false,
    "ExecuteTime": {
     "end_time": "2024-11-26T22:03:56.974045Z",
     "start_time": "2024-11-26T22:03:56.966693Z"
    }
   }
  },
  {
   "cell_type": "code",
   "execution_count": 4,
   "outputs": [
    {
     "name": "stdout",
     "output_type": "stream",
     "text": [
      "float64\n",
      "True\n",
      "int32\n",
      "False\n",
      "float64\n",
      "True\n",
      "int32\n",
      "False\n",
      "float64\n",
      "True\n",
      "int32\n",
      "False\n",
      "float64\n",
      "True\n",
      "int32\n",
      "False\n",
      "float64\n",
      "True\n",
      "int32\n",
      "False\n",
      "float64\n",
      "True\n",
      "int32\n",
      "False\n",
      "float64\n",
      "True\n",
      "int32\n",
      "False\n",
      "float64\n",
      "True\n",
      "int32\n",
      "False\n",
      "float64\n",
      "True\n",
      "int32\n",
      "False\n",
      "float64\n",
      "True\n",
      "int32\n",
      "False\n",
      "float64\n",
      "True\n"
     ]
    }
   ],
   "source": [
    "RandomForestImputation(df_large, target_features, target_dtypes, 4)"
   ],
   "metadata": {
    "collapsed": false,
    "ExecuteTime": {
     "end_time": "2024-11-26T22:03:58.269220Z",
     "start_time": "2024-11-26T22:03:57.988935Z"
    }
   }
  },
  {
   "cell_type": "code",
   "execution_count": 5,
   "outputs": [
    {
     "data": {
      "text/plain": "     Feature_0  Feature_1  Feature_2  Feature_3  Feature_4  Feature_5  \\\n0    13.775070        1.0  68.601260        4.0  73.359771        7.0   \n1    74.857721        3.0  56.407416        2.0   0.814950        3.0   \n2     2.979823        0.0  49.204316        9.0  63.155909        9.0   \n3    54.413631        7.0  29.257670        6.0  16.896536        0.0   \n4    82.171256        9.0  32.318357        7.0  79.153708        6.0   \n..         ...        ...        ...        ...        ...        ...   \n995  73.113563        3.0  41.615703        6.0  50.887541        5.0   \n996  20.820855        9.0  41.833754        4.0  49.816633        2.0   \n997  86.783028        3.0  77.711290        4.0  36.286182        9.0   \n998  61.770205        0.0   2.813242        6.0  19.428953        7.0   \n999  28.444174        4.0  97.120449        0.0  85.687435        0.0   \n\n     Feature_6  Feature_7  Feature_8  Feature_9  ...  Feature_11  Feature_12  \\\n0    51.721562        3.0  83.286034        5.0  ...         7.0   80.727274   \n1    59.402664        9.0  79.263963        0.0  ...         4.0   87.928880   \n2    73.470632        3.0  41.382830        8.0  ...         4.0   32.061432   \n3    74.915334        7.0  45.413054        0.0  ...         8.0   23.725235   \n4    59.340750        9.0  55.256989        7.0  ...         9.0   83.652702   \n..         ...        ...        ...        ...  ...         ...         ...   \n995  39.499794        0.0  93.743944        0.0  ...         8.0   63.092389   \n996  29.030134        2.0  57.582937        0.0  ...         6.0   48.720949   \n997  58.985245        1.0  85.758635        1.0  ...         1.0   53.837238   \n998  69.657949        8.0  86.724343        9.0  ...         2.0   73.613756   \n999  56.859018        4.0  42.531079        1.0  ...         4.0   45.304256   \n\n     Feature_13  Feature_14  Feature_15  Feature_16  Feature_17  Feature_18  \\\n0           6.0   61.083526         2.0   48.658860         4.0   49.194546   \n1           0.0   50.251230         1.0   64.798904         6.0   70.710103   \n2           3.0   91.189311         5.0   96.020092         6.0   49.655852   \n3           5.0   85.399465         4.0   81.442744         3.0    1.760897   \n4           5.0   73.310242         2.0   35.859196         8.0   79.333821   \n..          ...         ...         ...         ...         ...         ...   \n995         3.0   23.197690         5.0   59.070572         6.0   93.245335   \n996         3.0   82.096808         2.0   97.419337         0.0   46.805378   \n997         8.0   60.431197         9.0   47.888089         4.0   35.888915   \n998         7.0   64.976439         1.0   51.369698         3.0   79.136637   \n999         0.0   95.597103         4.0   53.592307         1.0   33.157421   \n\n     Feature_19     Target  \n0           1.0  31.444158  \n1           1.0  12.822415  \n2           1.0  23.680263  \n3           9.0  33.905231  \n4           0.0   9.476997  \n..          ...        ...  \n995         0.0   2.626835  \n996         6.0  41.459524  \n997         1.0   4.859134  \n998         0.0  47.082533  \n999         3.0   9.236669  \n\n[1000 rows x 21 columns]",
      "text/html": "<div>\n<style scoped>\n    .dataframe tbody tr th:only-of-type {\n        vertical-align: middle;\n    }\n\n    .dataframe tbody tr th {\n        vertical-align: top;\n    }\n\n    .dataframe thead th {\n        text-align: right;\n    }\n</style>\n<table border=\"1\" class=\"dataframe\">\n  <thead>\n    <tr style=\"text-align: right;\">\n      <th></th>\n      <th>Feature_0</th>\n      <th>Feature_1</th>\n      <th>Feature_2</th>\n      <th>Feature_3</th>\n      <th>Feature_4</th>\n      <th>Feature_5</th>\n      <th>Feature_6</th>\n      <th>Feature_7</th>\n      <th>Feature_8</th>\n      <th>Feature_9</th>\n      <th>...</th>\n      <th>Feature_11</th>\n      <th>Feature_12</th>\n      <th>Feature_13</th>\n      <th>Feature_14</th>\n      <th>Feature_15</th>\n      <th>Feature_16</th>\n      <th>Feature_17</th>\n      <th>Feature_18</th>\n      <th>Feature_19</th>\n      <th>Target</th>\n    </tr>\n  </thead>\n  <tbody>\n    <tr>\n      <th>0</th>\n      <td>13.775070</td>\n      <td>1.0</td>\n      <td>68.601260</td>\n      <td>4.0</td>\n      <td>73.359771</td>\n      <td>7.0</td>\n      <td>51.721562</td>\n      <td>3.0</td>\n      <td>83.286034</td>\n      <td>5.0</td>\n      <td>...</td>\n      <td>7.0</td>\n      <td>80.727274</td>\n      <td>6.0</td>\n      <td>61.083526</td>\n      <td>2.0</td>\n      <td>48.658860</td>\n      <td>4.0</td>\n      <td>49.194546</td>\n      <td>1.0</td>\n      <td>31.444158</td>\n    </tr>\n    <tr>\n      <th>1</th>\n      <td>74.857721</td>\n      <td>3.0</td>\n      <td>56.407416</td>\n      <td>2.0</td>\n      <td>0.814950</td>\n      <td>3.0</td>\n      <td>59.402664</td>\n      <td>9.0</td>\n      <td>79.263963</td>\n      <td>0.0</td>\n      <td>...</td>\n      <td>4.0</td>\n      <td>87.928880</td>\n      <td>0.0</td>\n      <td>50.251230</td>\n      <td>1.0</td>\n      <td>64.798904</td>\n      <td>6.0</td>\n      <td>70.710103</td>\n      <td>1.0</td>\n      <td>12.822415</td>\n    </tr>\n    <tr>\n      <th>2</th>\n      <td>2.979823</td>\n      <td>0.0</td>\n      <td>49.204316</td>\n      <td>9.0</td>\n      <td>63.155909</td>\n      <td>9.0</td>\n      <td>73.470632</td>\n      <td>3.0</td>\n      <td>41.382830</td>\n      <td>8.0</td>\n      <td>...</td>\n      <td>4.0</td>\n      <td>32.061432</td>\n      <td>3.0</td>\n      <td>91.189311</td>\n      <td>5.0</td>\n      <td>96.020092</td>\n      <td>6.0</td>\n      <td>49.655852</td>\n      <td>1.0</td>\n      <td>23.680263</td>\n    </tr>\n    <tr>\n      <th>3</th>\n      <td>54.413631</td>\n      <td>7.0</td>\n      <td>29.257670</td>\n      <td>6.0</td>\n      <td>16.896536</td>\n      <td>0.0</td>\n      <td>74.915334</td>\n      <td>7.0</td>\n      <td>45.413054</td>\n      <td>0.0</td>\n      <td>...</td>\n      <td>8.0</td>\n      <td>23.725235</td>\n      <td>5.0</td>\n      <td>85.399465</td>\n      <td>4.0</td>\n      <td>81.442744</td>\n      <td>3.0</td>\n      <td>1.760897</td>\n      <td>9.0</td>\n      <td>33.905231</td>\n    </tr>\n    <tr>\n      <th>4</th>\n      <td>82.171256</td>\n      <td>9.0</td>\n      <td>32.318357</td>\n      <td>7.0</td>\n      <td>79.153708</td>\n      <td>6.0</td>\n      <td>59.340750</td>\n      <td>9.0</td>\n      <td>55.256989</td>\n      <td>7.0</td>\n      <td>...</td>\n      <td>9.0</td>\n      <td>83.652702</td>\n      <td>5.0</td>\n      <td>73.310242</td>\n      <td>2.0</td>\n      <td>35.859196</td>\n      <td>8.0</td>\n      <td>79.333821</td>\n      <td>0.0</td>\n      <td>9.476997</td>\n    </tr>\n    <tr>\n      <th>...</th>\n      <td>...</td>\n      <td>...</td>\n      <td>...</td>\n      <td>...</td>\n      <td>...</td>\n      <td>...</td>\n      <td>...</td>\n      <td>...</td>\n      <td>...</td>\n      <td>...</td>\n      <td>...</td>\n      <td>...</td>\n      <td>...</td>\n      <td>...</td>\n      <td>...</td>\n      <td>...</td>\n      <td>...</td>\n      <td>...</td>\n      <td>...</td>\n      <td>...</td>\n      <td>...</td>\n    </tr>\n    <tr>\n      <th>995</th>\n      <td>73.113563</td>\n      <td>3.0</td>\n      <td>41.615703</td>\n      <td>6.0</td>\n      <td>50.887541</td>\n      <td>5.0</td>\n      <td>39.499794</td>\n      <td>0.0</td>\n      <td>93.743944</td>\n      <td>0.0</td>\n      <td>...</td>\n      <td>8.0</td>\n      <td>63.092389</td>\n      <td>3.0</td>\n      <td>23.197690</td>\n      <td>5.0</td>\n      <td>59.070572</td>\n      <td>6.0</td>\n      <td>93.245335</td>\n      <td>0.0</td>\n      <td>2.626835</td>\n    </tr>\n    <tr>\n      <th>996</th>\n      <td>20.820855</td>\n      <td>9.0</td>\n      <td>41.833754</td>\n      <td>4.0</td>\n      <td>49.816633</td>\n      <td>2.0</td>\n      <td>29.030134</td>\n      <td>2.0</td>\n      <td>57.582937</td>\n      <td>0.0</td>\n      <td>...</td>\n      <td>6.0</td>\n      <td>48.720949</td>\n      <td>3.0</td>\n      <td>82.096808</td>\n      <td>2.0</td>\n      <td>97.419337</td>\n      <td>0.0</td>\n      <td>46.805378</td>\n      <td>6.0</td>\n      <td>41.459524</td>\n    </tr>\n    <tr>\n      <th>997</th>\n      <td>86.783028</td>\n      <td>3.0</td>\n      <td>77.711290</td>\n      <td>4.0</td>\n      <td>36.286182</td>\n      <td>9.0</td>\n      <td>58.985245</td>\n      <td>1.0</td>\n      <td>85.758635</td>\n      <td>1.0</td>\n      <td>...</td>\n      <td>1.0</td>\n      <td>53.837238</td>\n      <td>8.0</td>\n      <td>60.431197</td>\n      <td>9.0</td>\n      <td>47.888089</td>\n      <td>4.0</td>\n      <td>35.888915</td>\n      <td>1.0</td>\n      <td>4.859134</td>\n    </tr>\n    <tr>\n      <th>998</th>\n      <td>61.770205</td>\n      <td>0.0</td>\n      <td>2.813242</td>\n      <td>6.0</td>\n      <td>19.428953</td>\n      <td>7.0</td>\n      <td>69.657949</td>\n      <td>8.0</td>\n      <td>86.724343</td>\n      <td>9.0</td>\n      <td>...</td>\n      <td>2.0</td>\n      <td>73.613756</td>\n      <td>7.0</td>\n      <td>64.976439</td>\n      <td>1.0</td>\n      <td>51.369698</td>\n      <td>3.0</td>\n      <td>79.136637</td>\n      <td>0.0</td>\n      <td>47.082533</td>\n    </tr>\n    <tr>\n      <th>999</th>\n      <td>28.444174</td>\n      <td>4.0</td>\n      <td>97.120449</td>\n      <td>0.0</td>\n      <td>85.687435</td>\n      <td>0.0</td>\n      <td>56.859018</td>\n      <td>4.0</td>\n      <td>42.531079</td>\n      <td>1.0</td>\n      <td>...</td>\n      <td>4.0</td>\n      <td>45.304256</td>\n      <td>0.0</td>\n      <td>95.597103</td>\n      <td>4.0</td>\n      <td>53.592307</td>\n      <td>1.0</td>\n      <td>33.157421</td>\n      <td>3.0</td>\n      <td>9.236669</td>\n    </tr>\n  </tbody>\n</table>\n<p>1000 rows × 21 columns</p>\n</div>"
     },
     "execution_count": 5,
     "metadata": {},
     "output_type": "execute_result"
    }
   ],
   "source": [
    "df_large"
   ],
   "metadata": {
    "collapsed": false,
    "ExecuteTime": {
     "end_time": "2024-11-26T22:03:59.346046Z",
     "start_time": "2024-11-26T22:03:59.297515Z"
    }
   }
  },
  {
   "cell_type": "code",
   "execution_count": null,
   "outputs": [],
   "source": [],
   "metadata": {
    "collapsed": false
   }
  }
 ],
 "metadata": {
  "kernelspec": {
   "display_name": "Python 3",
   "language": "python",
   "name": "python3"
  },
  "language_info": {
   "codemirror_mode": {
    "name": "ipython",
    "version": 2
   },
   "file_extension": ".py",
   "mimetype": "text/x-python",
   "name": "python",
   "nbconvert_exporter": "python",
   "pygments_lexer": "ipython2",
   "version": "2.7.6"
  }
 },
 "nbformat": 4,
 "nbformat_minor": 0
}
